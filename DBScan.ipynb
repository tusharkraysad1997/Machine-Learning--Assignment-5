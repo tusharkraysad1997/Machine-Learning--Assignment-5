{
 "cells": [
  {
   "cell_type": "code",
   "execution_count": 190,
   "id": "2d34648f",
   "metadata": {},
   "outputs": [],
   "source": [
    "import numpy as np\n",
    "from sklearn.preprocessing import StandardScaler\n",
    "import matplotlib.pyplot as plt\n",
    "import queue\n",
    "import pandas as pd\n",
    "from itertools import cycle, islice"
   ]
  },
  {
   "cell_type": "code",
   "execution_count": 191,
   "id": "8308a4dd",
   "metadata": {},
   "outputs": [],
   "source": [
    "column_names = ('X','Y')\n",
    "df=pd.read_csv('dataset1.txt', sep=' ',names = column_names)"
   ]
  },
  {
   "cell_type": "code",
   "execution_count": 192,
   "id": "c3c36744",
   "metadata": {},
   "outputs": [
    {
     "data": {
      "image/png": "[encoded data removed]",
      "text/plain": [
       "<Figure size 432x288 with 1 Axes>"
      ]
     },
     "metadata": {
      "needs_background": "light"
     },
     "output_type": "display_data"
    }
   ],
   "source": [
    "plt.scatter(df[\"X\"],df[\"Y\"],c='black')\n",
    "plt.xlabel('X')\n",
    "plt.ylabel('Y')\n",
    "plt.title('Original data')\n",
    "plt.show()"
   ]
  },
  {
   "cell_type": "code",
   "execution_count": 193,
   "id": "7064eeae",
   "metadata": {},
   "outputs": [],
   "source": [
    "dataset = df.astype(float).values.tolist()\n",
    "X = StandardScaler().fit_transform(dataset)"
   ]
  },
  {
   "cell_type": "code",
   "execution_count": 194,
   "id": "6716d8aa",
   "metadata": {},
   "outputs": [],
   "source": [
    "class DBSCAN():\n",
    "\n",
    "    def region_query(self, data, P,  epsilon):\n",
    "  \n",
    "        neighbors = []\n",
    "        for Pn in range (len(data)):\n",
    "            if np.linalg.norm(data[P] - data[Pn]) < epsilon:\n",
    "                neighbors.append(Pn)\n",
    "            \n",
    "        return neighbors\n",
    "\n",
    "    \n",
    "    def cluster(self, data, Eps, MinPt):\n",
    "        core = []\n",
    "        border = []\n",
    "        label = [0] * len(data)\n",
    "        count = []\n",
    "\n",
    "       \n",
    "        for i in range(len(data)):\n",
    "            count.append(self.region_query(data, i, Eps))\n",
    "\n",
    "        \n",
    "        for i in range(len(count)):\n",
    "            if (len(count[i]) >= MinPt):\n",
    "                label[i] = self.core\n",
    "                core.append(i)\n",
    "            else:\n",
    "                border.append(i)    \n",
    "\n",
    "        for i in border:\n",
    "            for j in count[i]:\n",
    "                if j in core:\n",
    "                    label[i] = self.border\n",
    "                    break\n",
    "\n",
    "        c = 1\n",
    "\n",
    "        for i in range(len(label)):\n",
    "            q = queue.Queue()\n",
    "            if (label[i] == self.core):\n",
    "                label[i] = c\n",
    "                for x in count[i]:\n",
    "                    if(label[x] == self.core):\n",
    "                        q.put(x)\n",
    "                        label[x] = c\n",
    "                    elif(label[x] == self.border):\n",
    "                        label[x] = c\n",
    "                while not q.empty():\n",
    "                    neighbors = count[q.get()]\n",
    "                    for y in neighbors:\n",
    "                        if (label[y] == self.core):\n",
    "                            label[y] = c\n",
    "                            q.put(y)\n",
    "                        if (label[y] == self.border):\n",
    "                            label[y] = c\n",
    "                c += 1 \n",
    "\n",
    "        return label, c\n",
    "\n",
    "    def __init__(self):\n",
    "        self.core = -1\n",
    "        self.border = -2\n",
    "        \n",
    "    def plot(self, data, c, no_of_Clusters):\n",
    "        n = len(data)\n",
    "\n",
    "        colors = np.array(list(islice(cycle(['#FE4A49', '#2AB7CA']), 3)))\n",
    "\n",
    "        for x in range(no_of_Clusters):\n",
    "            if (x == 0):\n",
    "                \n",
    "                color = '#000000'\n",
    "            else:\n",
    "                color = colors[x % len(colors)]\n",
    "\n",
    "            a, b = [], []\n",
    "            for y in range(n):\n",
    "                if c[y] == x:\n",
    "                    a.append(data[y, 0])\n",
    "                    b.append(data[y, 1])\n",
    "            plt.scatter(a, b, c=color, alpha=1, marker='.')\n",
    "            plt.xlabel('X')\n",
    "            plt.ylabel('Y')\n",
    "            plt.title('DBScan clustered data after implementation')"
   ]
  },
  {
   "cell_type": "code",
   "execution_count": 195,
   "id": "c1dce8f5",
   "metadata": {},
   "outputs": [
    {
     "name": "stdout",
     "output_type": "stream",
     "text": [
      "Number of Clusters: 3\n"
     ]
    }
   ],
   "source": [
    "print(\"Number of Clusters:\",c)"
   ]
  },
  {
   "cell_type": "code",
   "execution_count": 196,
   "id": "2cdc65b4",
   "metadata": {},
   "outputs": [
    {
     "data": {
      "image/png": "[encoded data removed]",
      "text/plain": [
       "<Figure size 432x288 with 1 Axes>"
      ]
     },
     "metadata": {
      "needs_background": "light"
     },
     "output_type": "display_data"
    }
   ],
   "source": [
    "dbscan_instance = DBSCAN()\n",
    "labels, c = dbscan_instance.cluster(X, 0.25, 4)\n",
    "dbscan_instance.plot(X, labels, c)\n",
    "plt.show()"
   ]
  },
  {
   "cell_type": "markdown",
   "id": "788595bd",
   "metadata": {},
   "source": [
    "DBSCAN IMPLEMENTATION FOR dataset2"
   ]
  },
  {
   "cell_type": "code",
   "execution_count": 197,
   "id": "458694e8",
   "metadata": {},
   "outputs": [
    {
     "data": {
      "image/png": "[encoded data removed]",
      "text/plain": [
       "<Figure size 432x288 with 1 Axes>"
      ]
     },
     "metadata": {
      "needs_background": "light"
     },
     "output_type": "display_data"
    }
   ],
   "source": [
    "column_names = ('X','Y')\n",
    "df1=pd.read_csv('dataset2.txt', sep=' ',names = column_names)\n",
    "plt.scatter(df1[\"X\"],df1[\"Y\"],c='black')\n",
    "plt.xlabel('X')\n",
    "plt.ylabel('Y')\n",
    "plt.title('Original data')\n",
    "plt.show()"
   ]
  },
  {
   "cell_type": "code",
   "execution_count": 198,
   "id": "b9b52fd5",
   "metadata": {},
   "outputs": [],
   "source": [
    "dataset = df1.astype(float).values.tolist()\n",
    "X1 = StandardScaler().fit_transform(dataset)"
   ]
  },
  {
   "cell_type": "code",
   "execution_count": 199,
   "id": "d99f6821",
   "metadata": {},
   "outputs": [],
   "source": [
    "class DBSCAN():\n",
    "\n",
    "    def region_query(self, data, P,  epsilon):\n",
    "  \n",
    "        neighbors = []\n",
    "        for Pn in range (len(data)):\n",
    "            if np.linalg.norm(data[P] - data[Pn]) < epsilon:\n",
    "                neighbors.append(Pn)\n",
    "            \n",
    "        return neighbors\n",
    "\n",
    "    \n",
    "    def cluster(self, data, Eps, MinPt):\n",
    "        core = []\n",
    "        border = []\n",
    "        label = [0] * len(data)\n",
    "        count = []\n",
    "\n",
    "       \n",
    "        for i in range(len(data)):\n",
    "            count.append(self.region_query(data, i, Eps))\n",
    "\n",
    "        \n",
    "        for i in range(len(count)):\n",
    "            if (len(count[i]) >= MinPt):\n",
    "                label[i] = self.core\n",
    "                core.append(i)\n",
    "            else:\n",
    "                border.append(i)    \n",
    "\n",
    "        for i in border:\n",
    "            for j in count[i]:\n",
    "                if j in core:\n",
    "                    label[i] = self.border\n",
    "                    break\n",
    "\n",
    "        c = 1\n",
    "\n",
    "        for i in range(len(label)):\n",
    "            q = queue.Queue()\n",
    "            if (label[i] == self.core):\n",
    "                label[i] = c\n",
    "                for x in count[i]:\n",
    "                    if(label[x] == self.core):\n",
    "                        q.put(x)\n",
    "                        label[x] = c\n",
    "                    elif(label[x] == self.border):\n",
    "                        label[x] = c\n",
    "                while not q.empty():\n",
    "                    neighbors = count[q.get()]\n",
    "                    for y in neighbors:\n",
    "                        if (label[y] == self.core):\n",
    "                            label[y] = c\n",
    "                            q.put(y)\n",
    "                        if (label[y] == self.border):\n",
    "                            label[y] = c\n",
    "                c += 1 \n",
    "\n",
    "        return label, c\n",
    "\n",
    "    def __init__(self):\n",
    "        self.core = -1\n",
    "        self.border = -2\n",
    "        \n",
    "    def plot(self, data, c, no_of_Clusters):\n",
    "        n = len(data)\n",
    "\n",
    "        colors = np.array(list(islice(cycle(['#FFD700', '#008B8B']), 3)))\n",
    "\n",
    "        for x in range(no_of_Clusters):\n",
    "            if (x == 0):\n",
    "                \n",
    "                color = '#800080'\n",
    "            else:\n",
    "                color = colors[x % len(colors)]\n",
    "\n",
    "            a, b = [], []\n",
    "            for y in range(n):\n",
    "                if c[y] == x:\n",
    "                    a.append(data[y, 0])\n",
    "                    b.append(data[y, 1])\n",
    "            plt.scatter(a, b, c=color, alpha=1, marker='.')\n",
    "            plt.xlabel('X')\n",
    "            plt.ylabel('Y')\n",
    "            plt.title('DBScan clustered data after implementation')"
   ]
  },
  {
   "cell_type": "code",
   "execution_count": 200,
   "id": "f3fcad8c",
   "metadata": {},
   "outputs": [
    {
     "name": "stdout",
     "output_type": "stream",
     "text": [
      "Number of Clusters: 3\n"
     ]
    }
   ],
   "source": [
    "print(\"Number of Clusters:\",c)"
   ]
  },
  {
   "cell_type": "code",
   "execution_count": 201,
   "id": "2258ee35",
   "metadata": {},
   "outputs": [
    {
     "data": {
      "image/png": "[encoded data removed]",
      "text/plain": [
       "<Figure size 432x288 with 1 Axes>"
      ]
     },
     "metadata": {
      "needs_background": "light"
     },
     "output_type": "display_data"
    }
   ],
   "source": [
    "dbscan_instance = DBSCAN()\n",
    "labels, c = dbscan_instance.cluster(X1, 0.25, 4)\n",
    "dbscan_instance.plot(X1, labels, c)\n",
    "plt.show()"
   ]
  },
  {
   "cell_type": "markdown",
   "id": "a25a4ba9",
   "metadata": {},
   "source": []
  }
 ],
 "metadata": {
  "kernelspec": {
   "display_name": "Python 3.9.6 64-bit",
   "language": "python",
   "name": "python396jvsc74a57bd0aee8b7b246df8f9039afb4144a1f6fd8d2ca17a180786b69acc140d282b71a49"
  },
  "language_info": {
   "codemirror_mode": {
    "name": "ipython",
    "version": 3
   },
   "file_extension": ".py",
   "mimetype": "text/x-python",
   "name": "python",
   "nbconvert_exporter": "python",
   "pygments_lexer": "ipython3",
   "version": "3.9.6"
  }
 },
 "nbformat": 4,
 "nbformat_minor": 5
}
